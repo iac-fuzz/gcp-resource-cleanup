{
 "cells": [
  {
   "cell_type": "code",
   "execution_count": 1,
   "metadata": {},
   "outputs": [],
   "source": [
    "import re\n",
    "from pprint import pprint\n",
    "from base_gen_deletion_script import *"
   ]
  },
  {
   "cell_type": "code",
   "execution_count": 53,
   "metadata": {},
   "outputs": [],
   "source": [
    "def run_command(command: List[str]) -> dict:\n",
    "    \"\"\"Run a shell command and return the output.\"\"\"\n",
    "    result = subprocess.run(command, capture_output=True, text=True)\n",
    "    if result.returncode != 0:\n",
    "        print(f\"Error running command: {' '.join(command)}\")\n",
    "        print(result.stderr)\n",
    "        # sys.exit(1)\n",
    "    ret = {\n",
    "        \"stdout\": result.stdout,\n",
    "        \"stderr\": result.stderr,\n",
    "        \"returncode\": result.returncode\n",
    "    }\n",
    "    return ret \n",
    "\n",
    "def clean_text(input_text: str) -> str:\n",
    "    \"\"\"\n",
    "    Cleans the input text by removing ANSI escape sequences and formatting codes.\n",
    "\n",
    "    Args:\n",
    "        input_text (str): Text containing ANSI escape sequences.\n",
    "\n",
    "    Returns:\n",
    "        str: Cleaned text without escape sequences.\n",
    "    \"\"\"\n",
    "    # Regex pattern to match ANSI escape sequences\n",
    "    ansi_escape_pattern = re.compile(r'\\x1b\\[[0-9;]*m')\n",
    "    cleaned_text = ansi_escape_pattern.sub('', input_text)\n",
    "    return cleaned_text\n",
    "\n",
    "def parse_help_texts_block(help_text: str, block_name: str, \n",
    "                          cmd_indent: int = 5, desc_indent: int = 8,\n",
    "                          verbose: bool = False) -> dict:\n",
    "    \"\"\"\n",
    "    Extracts a specific block of text from the help text based on the block name.\n",
    "\n",
    "    Args:\n",
    "        help_text (str): The entire help text from the gcloud command.\n",
    "        block_name (str): The name of the block to extract.\n",
    "\n",
    "    Returns:\n",
    "        dict: {arg_name: arg_description}\n",
    "    \"\"\"\n",
    "    args_desc = {}\n",
    "\n",
    "    in_block = False\n",
    "    for line in clean_text(help_text).split(\"\\n\"):\n",
    "        # print(line)\n",
    "\n",
    "        # if the line starts with the block name\n",
    "        if line.startswith(block_name): \n",
    "            in_block = True\n",
    "        elif in_block and line.isupper(): \n",
    "            # check stop condition, when the line starts with all capital letters\n",
    "            in_block = False\n",
    "            break\n",
    "        \n",
    "        # print if in block and not new line\n",
    "        if in_block and line != \"\": \n",
    "            if verbose: print(line)\n",
    "            if line.startswith(\" \"*cmd_indent) and line[cmd_indent] != \" \":\n",
    "                tmp_arg = line.strip()\n",
    "                # print(tmp_arg)\n",
    "                args_desc[tmp_arg] = None\n",
    "            elif line.startswith(\" \"*desc_indent) and tmp_arg != None:\n",
    "                # remove front and back spaces\n",
    "                args_desc[tmp_arg] = line.strip()\n",
    "                tmp_arg = None\n",
    "    \n",
    "    # print(args_desc)\n",
    "    # print()\n",
    "    return args_desc"
   ]
  },
  {
   "cell_type": "code",
   "execution_count": null,
   "metadata": {},
   "outputs": [],
   "source": [
    "out_dict = run_command([\"gcloud\", \"compute\", \"networks\", \"--help\"])\n",
    "\n",
    "block = \"GROUPS\"\n",
    "parse_help_texts_block(out_dict[\"stdout\"], block)"
   ]
  },
  {
   "cell_type": "code",
   "execution_count": 102,
   "metadata": {},
   "outputs": [],
   "source": [
    "\"\"\"\n",
    "Ex \n",
    "    input: [\"gcloud\", \"compute\", \"networks\"]\n",
    "    return: {'peerings': {}, 'subnets': {}}\n",
    "\"\"\"\n",
    "def get_sub_resources(gcloud_cmds: List[str], included_cmds: List[str]=[\"create\", \"delete\", \"list\"],\n",
    "                      uri_supported: bool=True, verbose: bool=False) -> list:\n",
    "    \"\"\"\n",
    "    Get sub-resources for a given GCP resource type.\n",
    "\n",
    "    Args:\n",
    "        gcloud_component (str): The GCP component (e.g., \"compute\", \"sql\", \"pubsub\")\n",
    "        resource_type (str): The specific resource type (e.g., \"networks\", \"instances\")\n",
    "\n",
    "    Returns:\n",
    "        dict: {sub_resource1: {}, sub_resource2: {}}\n",
    "    \"\"\"\n",
    "    ret_list = []\n",
    "    \n",
    "    # use help to get the sub-resources from \"GROUP\"\n",
    "    out_dict = run_command(gcloud_cmds + [\"--help\"])\n",
    "    # print(out_dict[\"stdout\"])\n",
    "    help_text = out_dict[\"stdout\"]\n",
    "    group_dict = parse_help_texts_block(help_text, \"GROUPS\")\n",
    "    # print(group_dict)\n",
    "    \n",
    "    for k, v in group_dict.items():\n",
    "        group_help_text = run_command(gcloud_cmds + [k, \"--help\"])[\"stdout\"]\n",
    "        group_cmd = parse_help_texts_block(group_help_text, \"COMMANDS\").keys()\n",
    "        # print(group_cmd)\n",
    "        if all(cmd in group_cmd for cmd in included_cmds):\n",
    "            if uri_supported:\n",
    "                # check cmd + \"list --help\" \n",
    "                list_help_text = run_command(gcloud_cmds + [k, \"list\", \"--help\"])[\"stdout\"]\n",
    "                list_flags = parse_help_texts_block(list_help_text, \"LIST COMMAND FLAGS\").keys()\n",
    "                if \"--uri\" in list_flags:\n",
    "                    ret_list.append(f\"{gcloud_cmds[-1]} {k}\")\n",
    "            else:\n",
    "                ret_list.append(f\"{gcloud_cmds[-1]} {k}\")\n",
    "    return ret_list\n",
    "\n",
    "# Recursively func to call get_sub_resources\n",
    "def get_sub_resources_recursively(gcloud_cmds: List[str], sub_resources: dict={}, \n",
    "                                  included_cmds: List[str]=[\"create\", \"delete\", \"list\"],\n",
    "                                  uri_supported: bool=True,\n",
    "                                  verbose: bool=False) -> dict:\n",
    "    # sub_resources = get_sub_resources(gcloud_cmds, sub_resources, included_cmds, uri_supported, verbose)\n",
    "    sub_resources.update(get_sub_resources(gcloud_cmds, sub_resources, included_cmds, uri_supported, verbose))\n",
    "    for k, v in sub_resources.items():\n",
    "        # print(k, v)\n",
    "        sub_resources_help_cmd = gcloud_cmds + [k, \"--help\"]\n",
    "        # print(sub_resources_help_cmd)\n",
    "        help_text = run_command(sub_resources_help_cmd)[\"stdout\"]\n",
    "        if parse_help_texts_block(help_text, \"GROUPS\"):\n",
    "            # if there is a sub-group, recursively call get_sub_resources_recursively\n",
    "            get_sub_resources_recursively(gcloud_cmds + [k], sub_resources[k], included_cmds, uri_supported, verbose)\n",
    "    return sub_resources"
   ]
  },
  {
   "cell_type": "code",
   "execution_count": null,
   "metadata": {},
   "outputs": [],
   "source": [
    "# get_sub_resources([\"gcloud\", \"compute\", \"networks\"])\n",
    "# get_sub_resources([\"gcloud\", \"compute\"])\n",
    "\n",
    "# get_sub_resources_recursively([\"gcloud\", \"compute\", \"networks\"])  \n",
    "# get_sub_resources_recursively([\"gcloud\", \"compute\", \"instances\"])  \n",
    "pprint(get_sub_resources([\"gcloud\", \"compute\", \"networks\"]))     "
   ]
  },
  {
   "cell_type": "code",
   "execution_count": null,
   "metadata": {},
   "outputs": [],
   "source": [
    "out_dict = run_command([\"gcloud\", \"compute\", \"instances\", \"--help\"])\n",
    "\n",
    "block = \"GROUPS\"\n",
    "parse_help_texts_block(out_dict[\"stdout\"], block)"
   ]
  },
  {
   "cell_type": "code",
   "execution_count": null,
   "metadata": {},
   "outputs": [],
   "source": [
    "clean_text(out_dict[\"stdout\"])"
   ]
  },
  {
   "cell_type": "code",
   "execution_count": 69,
   "metadata": {},
   "outputs": [],
   "source": [
    "# a temp filter to filter out the resources: delete requried other args \n",
    "# def filter_resources_by_other_args(resources: List[str]) -> List[str]:\n",
    "\n",
    "# Filter out the case that delete requires other args\n",
    "# parse_help_texts_block(run_command([\"gcloud\", \"compute\", \"networks\", \"peerings\", \"delete\", \"--help\"])[\"stdout\"], \"REQUIRED\")\n",
    "\n",
    "def filter_resources_by_other_delete_args(cmd_path: List[str]) -> bool:\n",
    "    cmd_path.append(\"delete\")\n",
    "    cmd_path.append(\"--help\")\n",
    "    out_dict = run_command(cmd_path)\n",
    "    help_text = out_dict[\"stdout\"]\n",
    "    return parse_help_texts_block(help_text, \"REQUIRED\")"
   ]
  },
  {
   "cell_type": "code",
   "execution_count": null,
   "metadata": {},
   "outputs": [],
   "source": [
    "get_sub_resources([\"gcloud\", \"compute\", \"networks\"])"
   ]
  },
  {
   "cell_type": "code",
   "execution_count": null,
   "metadata": {},
   "outputs": [],
   "source": [
    "filter_resources_by_other_delete_args([\"gcloud\", \"compute\", \"networks\", \"peerings\"])"
   ]
  },
  {
   "cell_type": "code",
   "execution_count": null,
   "metadata": {},
   "outputs": [],
   "source": [
    "out_dict = run_command([\"gcloud\", \"compute\", [\"networks\", \"subnets\"], \"list\", \"--uri\"])\n",
    "print(clean_text(out_dict[\"stdout\"]))"
   ]
  },
  {
   "cell_type": "code",
   "execution_count": null,
   "metadata": {},
   "outputs": [],
   "source": [
    "# read json file\n",
    "with open(\"keys/gcp-keys.json\", \"r\") as f:\n",
    "    data = json.load(f)\n",
    "print(data)"
   ]
  },
  {
   "cell_type": "code",
   "execution_count": 112,
   "metadata": {},
   "outputs": [],
   "source": [
    "from typing import Any\n",
    "\n",
    "\n",
    "a = [\"1\", \"1 2 3\", \"2\", \"3\"]\n",
    "\n",
    "\n",
    "def flatten_list(a: List[Any]) -> List[Any]: # type: ignore\n",
    "    \"\"\"\n",
    "    Flatten a list of lists\n",
    "    # input: [1,2,[1,4],2]\n",
    "    # output: [1,2,1,4,2]\n",
    "    \"\"\"\n",
    "    ret = []\n",
    "    for item in a:\n",
    "        if isinstance(item, list):\n",
    "            ret.extend(flatten_list(item))\n",
    "        else:\n",
    "            ret.extend(item.split())\n",
    "    return ret"
   ]
  },
  {
   "cell_type": "code",
   "execution_count": null,
   "metadata": {},
   "outputs": [],
   "source": [
    "flatten_list(a)"
   ]
  },
  {
   "cell_type": "code",
   "execution_count": null,
   "metadata": {},
   "outputs": [],
   "source": []
  }
 ],
 "metadata": {
  "kernelspec": {
   "display_name": "pt",
   "language": "python",
   "name": "python3"
  },
  "language_info": {
   "codemirror_mode": {
    "name": "ipython",
    "version": 3
   },
   "file_extension": ".py",
   "mimetype": "text/x-python",
   "name": "python",
   "nbconvert_exporter": "python",
   "pygments_lexer": "ipython3",
   "version": "3.9.18"
  }
 },
 "nbformat": 4,
 "nbformat_minor": 2
}
