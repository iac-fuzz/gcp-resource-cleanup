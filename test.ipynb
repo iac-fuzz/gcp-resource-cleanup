{
 "cells": [
  {
   "cell_type": "code",
   "execution_count": 21,
   "metadata": {},
   "outputs": [],
   "source": [
    "import re\n",
    "\n",
    "from base_gen_deletion_script import *"
   ]
  },
  {
   "cell_type": "code",
   "execution_count": 88,
   "metadata": {},
   "outputs": [],
   "source": [
    "def run_command(command: List[str]) -> dict:\n",
    "    \"\"\"Run a shell command and return the output.\"\"\"\n",
    "    result = subprocess.run(command, capture_output=True, text=True)\n",
    "    if result.returncode != 0:\n",
    "        print(f\"Error running command: {' '.join(command)}\")\n",
    "        print(result.stderr)\n",
    "        # sys.exit(1)\n",
    "    ret = {\n",
    "        \"stdout\": result.stdout,\n",
    "        \"stderr\": result.stderr,\n",
    "        \"returncode\": result.returncode\n",
    "    }\n",
    "    return ret \n",
    "\n",
    "def clean_text(input_text: str) -> str:\n",
    "    \"\"\"\n",
    "    Cleans the input text by removing ANSI escape sequences and formatting codes.\n",
    "\n",
    "    Args:\n",
    "        input_text (str): Text containing ANSI escape sequences.\n",
    "\n",
    "    Returns:\n",
    "        str: Cleaned text without escape sequences.\n",
    "    \"\"\"\n",
    "    # Regex pattern to match ANSI escape sequences\n",
    "    ansi_escape_pattern = re.compile(r'\\x1b\\[[0-9;]*m')\n",
    "    cleaned_text = ansi_escape_pattern.sub('', input_text)\n",
    "    return cleaned_text\n",
    "\n",
    "def get_gcloud_help_block(help_text: str, block_name: str, \n",
    "                          cmd_indent: int = 5, desc_indent: int = 8,\n",
    "                          verbose: bool = False) -> dict:\n",
    "    \"\"\"\n",
    "    Extracts a specific block of text from the help text based on the block name.\n",
    "\n",
    "    Args:\n",
    "        help_text (str): The entire help text from the gcloud command.\n",
    "        block_name (str): The name of the block to extract.\n",
    "\n",
    "    Returns:\n",
    "        str: The block of text from the help text.\n",
    "    \"\"\"\n",
    "    args_desc = {}\n",
    "\n",
    "    in_block = False\n",
    "    for line in clean_text(help_text).split(\"\\n\"):\n",
    "        # print(line)\n",
    "\n",
    "        # if the line starts with the block name\n",
    "        if line.startswith(block_name): \n",
    "            in_block = True\n",
    "        elif in_block and line.isupper(): \n",
    "            # check stop condition, when the line starts with all capital letters\n",
    "            in_block = False\n",
    "            break\n",
    "        \n",
    "        # print if in block and not new line\n",
    "        if in_block and line != \"\": \n",
    "            if verbose: print(line)\n",
    "            if line.startswith(\" \"*cmd_indent) and line[cmd_indent] != \" \":\n",
    "                tmp_arg = line.strip()\n",
    "                args_desc[tmp_arg] = None\n",
    "            elif line.startswith(\" \"*desc_indent):\n",
    "                # remove front and back spaces\n",
    "                args_desc[tmp_arg] = line.strip()\n",
    "                tmp_arg = None\n",
    "    return args_desc"
   ]
  },
  {
   "cell_type": "code",
   "execution_count": 90,
   "metadata": {},
   "outputs": [
    {
     "data": {
      "text/plain": [
       "{'peerings': 'List, create, and delete, and update VPC Network Peering.',\n",
       " 'subnets': 'List, describe, and delete, and update Compute Engine subnetworks.',\n",
       " 'vpc-access': 'Manage VPC Access Service resources.'}"
      ]
     },
     "execution_count": 90,
     "metadata": {},
     "output_type": "execute_result"
    }
   ],
   "source": [
    "out_dict = run_command([\"gcloud\", \"compute\", \"networks\", \"--help\"])\n",
    "\n",
    "block = \"GROUP\"\n",
    "get_gcloud_help_block(out_dict[\"stdout\"], block)"
   ]
  },
  {
   "cell_type": "code",
   "execution_count": 93,
   "metadata": {},
   "outputs": [
    {
     "name": "stdout",
     "output_type": "stream",
     "text": [
      "NAME\n",
      "    gcloud compute networks peerings - list, create, and delete, and update VPC\n",
      "        Network Peering\n",
      "\n",
      "SYNOPSIS\n",
      "    gcloud compute networks peerings COMMAND [GCLOUD_WIDE_FLAG ...]\n",
      "\n",
      "DESCRIPTION\n",
      "    Read and manipulate VPC Network Peering connections.\n",
      "\n",
      "    For more information about VPC Network Peering, see the VPC Network Peering\n",
      "    documentation (https://cloud.google.com/vpc/docs/vpc-peering).\n",
      "\n",
      "    See also: Network API\n",
      "    (https://cloud.google.com/compute/docs/reference/rest/v1/networks).\n",
      "\n",
      "GCLOUD WIDE FLAGS\n",
      "    These flags are available to all commands: --help.\n",
      "\n",
      "    Run $ gcloud help for details.\n",
      "\n",
      "COMMANDS\n",
      "    COMMAND is one of the following:\n",
      "\n",
      "     create\n",
      "        Create a Compute Engine network peering.\n",
      "\n",
      "     delete\n",
      "        Delete a Compute Engine network peering.\n",
      "\n",
      "     list\n",
      "        List Google Compute Engine peerings.\n",
      "\n",
      "     list-routes\n",
      "        List received or advertised routes for a VPC network peering.\n",
      "\n",
      "     update\n",
      "        Update a Compute Engine network peering.\n",
      "\n"
     ]
    }
   ],
   "source": [
    "out_dict = run_command([\"gcloud\", \"compute\", \"networks\", \"peerings\", \"--help\"])\n",
    "print(clean_text(out_dict[\"stdout\"]))"
   ]
  },
  {
   "cell_type": "code",
   "execution_count": 96,
   "metadata": {},
   "outputs": [
    {
     "name": "stdout",
     "output_type": "stream",
     "text": [
      "NAME\n",
      "    gcloud compute networks subnets - list, describe, and delete, and update\n",
      "        Compute Engine subnetworks\n",
      "\n",
      "SYNOPSIS\n",
      "    gcloud compute networks subnets COMMAND [GCLOUD_WIDE_FLAG ...]\n",
      "\n",
      "DESCRIPTION\n",
      "    Read and manipulate VPC subnetworks.\n",
      "\n",
      "    For more information about VPC, see the VPC documentation\n",
      "    (https://cloud.google.com/vpc/docs/vpc).\n",
      "\n",
      "    See also: Subnetworks API\n",
      "    (https://cloud.google.com/compute/docs/reference/rest/v1/subnetworks).\n",
      "\n",
      "GCLOUD WIDE FLAGS\n",
      "    These flags are available to all commands: --help.\n",
      "\n",
      "    Run $ gcloud help for details.\n",
      "\n",
      "COMMANDS\n",
      "    COMMAND is one of the following:\n",
      "\n",
      "     add-iam-policy-binding\n",
      "        Add an IAM policy binding to a Compute Engine subnetwork.\n",
      "\n",
      "     create\n",
      "        Define a subnet for a network in custom subnet mode.\n",
      "\n",
      "     delete\n",
      "        Delete Google Cloud subnetworks.\n",
      "\n",
      "     describe\n",
      "        Describe a Compute Engine subnetwork.\n",
      "\n",
      "     expand-ip-range\n",
      "        Expand the IP range of a Compute Engine subnetwork.\n",
      "\n",
      "     get-iam-policy\n",
      "        Get the IAM policy for a Compute Engine subnetwork.\n",
      "\n",
      "     list\n",
      "        List Google Compute Engine subnetworks.\n",
      "\n",
      "     list-usable\n",
      "        List Compute Engine subnetworks permitted for use.\n",
      "\n",
      "     remove-iam-policy-binding\n",
      "        Remove an IAM policy binding from a Compute Engine subnetwork.\n",
      "\n",
      "     set-iam-policy\n",
      "        Set the IAM policy for a Compute Engine subnetwork.\n",
      "\n",
      "     update\n",
      "        Updates properties of an existing Compute Engine subnetwork.\n",
      "\n"
     ]
    }
   ],
   "source": [
    "out_dict = run_command([\"gcloud\", \"compute\", \"networks\", \"subnets\", \"--help\"])\n",
    "print(clean_text(out_dict[\"stdout\"]))"
   ]
  },
  {
   "cell_type": "code",
   "execution_count": 101,
   "metadata": {},
   "outputs": [
    {
     "name": "stdout",
     "output_type": "stream",
     "text": [
      "https://www.googleapis.com/compute/v1/projects/terraform-437400/regions/us-central1/subnetworks/my-subnetwork\n",
      "\n"
     ]
    }
   ],
   "source": [
    "out_dict = run_command([\"gcloud\", \"compute\", \"networks\", \"subnets\", \"list\", \"--uri\"])\n",
    "print(clean_text(out_dict[\"stdout\"]))"
   ]
  },
  {
   "cell_type": "code",
   "execution_count": 102,
   "metadata": {},
   "outputs": [
    {
     "name": "stdout",
     "output_type": "stream",
     "text": [
      "NAME\n",
      "    gcloud compute networks subnets list - list Google Compute Engine\n",
      "        subnetworks\n",
      "\n",
      "SYNOPSIS\n",
      "    gcloud compute networks subnets list [NAME ...] [--network=NETWORK]\n",
      "        [--regexp=REGEXP, -r REGEXP] [--regions=REGION,[REGION,...]]\n",
      "        [--filter=EXPRESSION] [--limit=LIMIT] [--page-size=PAGE_SIZE]\n",
      "        [--sort-by=[FIELD,...]] [--uri] [GCLOUD_WIDE_FLAG ...]\n",
      "\n",
      "DESCRIPTION\n",
      "    gcloud compute networks subnets list displays all Google Compute Engine\n",
      "    subnetworks in a project.\n",
      "\n",
      "    By default, subnetworks from all regions are listed. The results can be\n",
      "    narrowed down using a filter: --filter=\"region:( REGION ... )\".\n",
      "\n",
      "EXAMPLES\n",
      "    To list all subnetworks in a project in table form, run:\n",
      "\n",
      "        $ gcloud compute networks subnets list\n",
      "\n",
      "    To list the URIs of all subnetworks in a project, run:\n",
      "\n",
      "        $ gcloud compute networks subnets list --uri\n",
      "\n",
      "    To list all subnetworks in the us-central1 and europe-west1 regions, run:\n",
      "\n",
      "        $ gcloud compute networks subnets list \\\n",
      "            --filter=\"region:( us-central1 europe-west1 )\"\n",
      "\n",
      "POSITIONAL ARGUMENTS\n",
      "     [NAME ...]\n",
      "        (DEPRECATED) If provided, show details for the specified names and/or\n",
      "        URIs of resources.\n",
      "\n",
      "        Argument NAME is deprecated. Use --filter=\"name=( 'NAME' ... )\"\n",
      "        instead.\n",
      "\n",
      "FLAGS\n",
      "     --network=NETWORK\n",
      "        Only show subnetworks of a specific network.\n",
      "\n",
      "     --regexp=REGEXP, -r REGEXP\n",
      "        (DEPRECATED) Regular expression to filter the names of the results on.\n",
      "        Any names that do not match the entire regular expression will be\n",
      "        filtered out.\n",
      "\n",
      "        Flag --regexp is deprecated. Use --filter=\"name~'REGEXP'\" instead.\n",
      "\n",
      "     --regions=REGION,[REGION,...]\n",
      "        If provided, only resources from the given regions are queried.\n",
      "\n",
      "LIST COMMAND FLAGS\n",
      "     --filter=EXPRESSION\n",
      "        Apply a Boolean filter EXPRESSION to each resource item to be listed.\n",
      "        If the expression evaluates True, then that item is listed. For more\n",
      "        details and examples of filter expressions, run $ gcloud topic filters.\n",
      "        This flag interacts with other flags that are applied in this order:\n",
      "        --flatten, --sort-by, --filter, --limit.\n",
      "\n",
      "     --limit=LIMIT\n",
      "        Maximum number of resources to list. The default is unlimited. This\n",
      "        flag interacts with other flags that are applied in this order:\n",
      "        --flatten, --sort-by, --filter, --limit.\n",
      "\n",
      "     --page-size=PAGE_SIZE\n",
      "        Some services group resource list output into pages. This flag\n",
      "        specifies the maximum number of resources per page. The default is\n",
      "        determined by the service if it supports paging, otherwise it is\n",
      "        unlimited (no paging). Paging may be applied before or after --filter\n",
      "        and --limit depending on the service.\n",
      "\n",
      "     --sort-by=[FIELD,...]\n",
      "        Comma-separated list of resource field key names to sort by. The\n",
      "        default order is ascending. Prefix a field with ``~'' for descending\n",
      "        order on that field. This flag interacts with other flags that are\n",
      "        applied in this order: --flatten, --sort-by, --filter, --limit.\n",
      "\n",
      "     --uri\n",
      "        Print a list of resource URIs instead of the default output, and change\n",
      "        the command output to a list of URIs. If this flag is used with\n",
      "        --format, the formatting is applied on this URI list. To display URIs\n",
      "        alongside other keys instead, use the uri() transform.\n",
      "\n",
      "GCLOUD WIDE FLAGS\n",
      "    These flags are available to all commands: --access-token-file, --account,\n",
      "    --billing-project, --configuration, --flags-file, --flatten, --format,\n",
      "    --help, --impersonate-service-account, --log-http, --project, --quiet,\n",
      "    --trace-token, --user-output-enabled, --verbosity.\n",
      "\n",
      "    Run $ gcloud help for details.\n",
      "\n"
     ]
    }
   ],
   "source": [
    "out_dict = run_command([\"gcloud\", \"compute\", \"networks\", \"subnets\", \"list\", \"--help\"])\n",
    "print(clean_text(out_dict[\"stdout\"]))"
   ]
  },
  {
   "cell_type": "code",
   "execution_count": 100,
   "metadata": {},
   "outputs": [
    {
     "name": "stdout",
     "output_type": "stream",
     "text": [
      "https://www.googleapis.com/compute/v1/projects/terraform-437400/global/networks/my-network\n",
      "\n"
     ]
    }
   ],
   "source": [
    "out_dict = run_command([\"gcloud\", \"compute\", \"networks\", \"list\", \"--uri\"])\n",
    "print(clean_text(out_dict[\"stdout\"]))"
   ]
  },
  {
   "cell_type": "code",
   "execution_count": null,
   "metadata": {},
   "outputs": [],
   "source": []
  }
 ],
 "metadata": {
  "kernelspec": {
   "display_name": "pt",
   "language": "python",
   "name": "python3"
  },
  "language_info": {
   "codemirror_mode": {
    "name": "ipython",
    "version": 3
   },
   "file_extension": ".py",
   "mimetype": "text/x-python",
   "name": "python",
   "nbconvert_exporter": "python",
   "pygments_lexer": "ipython3",
   "version": "3.9.18"
  }
 },
 "nbformat": 4,
 "nbformat_minor": 2
}
