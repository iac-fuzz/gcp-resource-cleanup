{
 "cells": [
  {
   "cell_type": "code",
   "execution_count": 1,
   "metadata": {},
   "outputs": [],
   "source": [
    "import re\n",
    "from pprint import pprint\n",
    "from base_gen_deletion_script import *"
   ]
  },
  {
   "cell_type": "code",
   "execution_count": 53,
   "metadata": {},
   "outputs": [],
   "source": [
    "def run_command(command: List[str]) -> dict:\n",
    "    \"\"\"Run a shell command and return the output.\"\"\"\n",
    "    result = subprocess.run(command, capture_output=True, text=True)\n",
    "    if result.returncode != 0:\n",
    "        print(f\"Error running command: {' '.join(command)}\")\n",
    "        print(result.stderr)\n",
    "        # sys.exit(1)\n",
    "    ret = {\n",
    "        \"stdout\": result.stdout,\n",
    "        \"stderr\": result.stderr,\n",
    "        \"returncode\": result.returncode\n",
    "    }\n",
    "    return ret \n",
    "\n",
    "def clean_text(input_text: str) -> str:\n",
    "    \"\"\"\n",
    "    Cleans the input text by removing ANSI escape sequences and formatting codes.\n",
    "\n",
    "    Args:\n",
    "        input_text (str): Text containing ANSI escape sequences.\n",
    "\n",
    "    Returns:\n",
    "        str: Cleaned text without escape sequences.\n",
    "    \"\"\"\n",
    "    # Regex pattern to match ANSI escape sequences\n",
    "    ansi_escape_pattern = re.compile(r'\\x1b\\[[0-9;]*m')\n",
    "    cleaned_text = ansi_escape_pattern.sub('', input_text)\n",
    "    return cleaned_text\n",
    "\n",
    "def parse_help_texts_block(help_text: str, block_name: str, \n",
    "                          cmd_indent: int = 5, desc_indent: int = 8,\n",
    "                          verbose: bool = False) -> dict:\n",
    "    \"\"\"\n",
    "    Extracts a specific block of text from the help text based on the block name.\n",
    "\n",
    "    Args:\n",
    "        help_text (str): The entire help text from the gcloud command.\n",
    "        block_name (str): The name of the block to extract.\n",
    "\n",
    "    Returns:\n",
    "        dict: {arg_name: arg_description}\n",
    "    \"\"\"\n",
    "    args_desc = {}\n",
    "\n",
    "    in_block = False\n",
    "    for line in clean_text(help_text).split(\"\\n\"):\n",
    "        # print(line)\n",
    "\n",
    "        # if the line starts with the block name\n",
    "        if line.startswith(block_name): \n",
    "            in_block = True\n",
    "        elif in_block and line.isupper(): \n",
    "            # check stop condition, when the line starts with all capital letters\n",
    "            in_block = False\n",
    "            break\n",
    "        \n",
    "        # print if in block and not new line\n",
    "        if in_block and line != \"\": \n",
    "            if verbose: print(line)\n",
    "            if line.startswith(\" \"*cmd_indent) and line[cmd_indent] != \" \":\n",
    "                tmp_arg = line.strip()\n",
    "                # print(tmp_arg)\n",
    "                args_desc[tmp_arg] = None\n",
    "            elif line.startswith(\" \"*desc_indent) and tmp_arg != None:\n",
    "                # remove front and back spaces\n",
    "                args_desc[tmp_arg] = line.strip()\n",
    "                tmp_arg = None\n",
    "    \n",
    "    # print(args_desc)\n",
    "    # print()\n",
    "    return args_desc"
   ]
  },
  {
   "cell_type": "code",
   "execution_count": 54,
   "metadata": {},
   "outputs": [
    {
     "data": {
      "text/plain": [
       "{'peerings': 'List, create, and delete, and update VPC Network Peering.',\n",
       " 'subnets': 'List, describe, and delete, and update Compute Engine subnetworks.',\n",
       " 'vpc-access': 'Manage VPC Access Service resources.'}"
      ]
     },
     "execution_count": 54,
     "metadata": {},
     "output_type": "execute_result"
    }
   ],
   "source": [
    "out_dict = run_command([\"gcloud\", \"compute\", \"networks\", \"--help\"])\n",
    "\n",
    "block = \"GROUPS\"\n",
    "parse_help_texts_block(out_dict[\"stdout\"], block)"
   ]
  },
  {
   "cell_type": "code",
   "execution_count": 55,
   "metadata": {},
   "outputs": [],
   "source": [
    "\"\"\"\n",
    "Ex \n",
    "    input: [\"gcloud\", \"compute\", \"networks\"]\n",
    "    return: {'peerings': {}, 'subnets': {}}\n",
    "\"\"\"\n",
    "def get_sub_resources(gcloud_cmds: List[str], sub_resources: dict={}, \n",
    "                      included_cmds: List[str]=[\"create\", \"delete\", \"list\"],\n",
    "                      uri_supported: bool=True,\n",
    "                      verbose: bool=False) -> dict:\n",
    "    \"\"\"\n",
    "    Get sub-resources for a given GCP resource type.\n",
    "\n",
    "    Args:\n",
    "        gcloud_component (str): The GCP component (e.g., \"compute\", \"sql\", \"pubsub\")\n",
    "        resource_type (str): The specific resource type (e.g., \"networks\", \"instances\")\n",
    "\n",
    "    Returns:\n",
    "        dict: {sub_resource1: {}, sub_resource2: {}}\n",
    "    \"\"\"\n",
    "    \n",
    "    # use help to get the sub-resources from \"GROUP\"\n",
    "    out_dict = run_command(gcloud_cmds + [\"--help\"])\n",
    "    # print(out_dict[\"stdout\"])\n",
    "    help_text = out_dict[\"stdout\"]\n",
    "    group_dict = parse_help_texts_block(help_text, \"GROUPS\")\n",
    "    # print(group_dict)\n",
    "    \n",
    "    for k, v in group_dict.items():\n",
    "        group_help_text = run_command(gcloud_cmds + [k, \"--help\"])[\"stdout\"]\n",
    "        group_cmd = parse_help_texts_block(group_help_text, \"COMMANDS\").keys()\n",
    "        # print(group_cmd)\n",
    "        if all(cmd in group_cmd for cmd in included_cmds):\n",
    "            if uri_supported:\n",
    "                # check cmd + \"list --help\" \n",
    "                list_help_text = run_command(gcloud_cmds + [k, \"list\", \"--help\"])[\"stdout\"]\n",
    "                list_flags = parse_help_texts_block(list_help_text, \"LIST COMMAND FLAGS\").keys()\n",
    "                if \"--uri\" in list_flags:\n",
    "                    sub_resources[k] = {}\n",
    "            else:\n",
    "                sub_resources[k] = {}\n",
    "    return sub_resources\n",
    "\n",
    "# Recursively func to call get_sub_resources\n",
    "def get_sub_resources_recursively(gcloud_cmds: List[str], sub_resources: dict={}, \n",
    "                                  included_cmds: List[str]=[\"create\", \"delete\", \"list\"],\n",
    "                                  uri_supported: bool=True,\n",
    "                                  verbose: bool=False) -> dict:\n",
    "    sub_resources = get_sub_resources(gcloud_cmds, sub_resources, included_cmds, uri_supported, verbose)\n",
    "    for k, v in sub_resources.items():\n",
    "        # print(k, v)\n",
    "        sub_resources_help_cmd = gcloud_cmds + [k, \"--help\"]\n",
    "        # print(sub_resources_help_cmd)\n",
    "        help_text = run_command(sub_resources_help_cmd)[\"stdout\"]\n",
    "        if parse_help_texts_block(help_text, \"GROUPS\"):\n",
    "            # if there is a sub-group, recursively call get_sub_resources_recursively\n",
    "            get_sub_resources_recursively(gcloud_cmds + [k], sub_resources[k], included_cmds, uri_supported, verbose)\n",
    "    return sub_resources\n"
   ]
  },
  {
   "cell_type": "code",
   "execution_count": 56,
   "metadata": {},
   "outputs": [
    {
     "name": "stdout",
     "output_type": "stream",
     "text": [
      "{}\n"
     ]
    }
   ],
   "source": [
    "# get_sub_resources([\"gcloud\", \"compute\", \"networks\"])\n",
    "# get_sub_resources([\"gcloud\", \"compute\"])\n",
    "\n",
    "# get_sub_resources_recursively([\"gcloud\", \"compute\", \"networks\"])\n",
    "# get_sub_resources_recursively([\"gcloud\", \"compute\", \"instances\"])\n",
    "pprint(get_sub_resources([\"gcloud\", \"compute\", \"instances\"]))"
   ]
  },
  {
   "cell_type": "code",
   "execution_count": 7,
   "metadata": {},
   "outputs": [
    {
     "data": {
      "text/plain": [
       "{'bulk': 'Manipulate multiple Compute Engine virtual machines with single command',\n",
       " None: 'instances.',\n",
       " 'network-interfaces': 'Read and manipulate Compute Engine VM instance network interfaces.',\n",
       " 'ops-agents': 'Manage Google Cloud Observability agents for Compute Engine VM',\n",
       " 'os-inventory': 'Read Compute Engine OS Inventory Data and Related Resources.'}"
      ]
     },
     "execution_count": 7,
     "metadata": {},
     "output_type": "execute_result"
    }
   ],
   "source": [
    "out_dict = run_command([\"gcloud\", \"compute\", \"instances\", \"--help\"])\n",
    "\n",
    "block = \"GROUPS\"\n",
    "parse_help_texts_block(out_dict[\"stdout\"], block)"
   ]
  },
  {
   "cell_type": "code",
   "execution_count": 10,
   "metadata": {},
   "outputs": [
    {
     "data": {
      "text/plain": [
       "\"NAME\\n    gcloud compute instances - read and manipulate Compute Engine virtual\\n        machine instances\\n\\nSYNOPSIS\\n    gcloud compute instances GROUP | COMMAND [GCLOUD_WIDE_FLAG ...]\\n\\nDESCRIPTION\\n    Read and manipulate Compute Engine virtual machine instances.\\n\\n    For more information about virtual machine instances, see the virtual\\n    machine instances documentation\\n    (https://cloud.google.com/compute/docs/instances/).\\n\\n    See also: Instances API\\n    (https://cloud.google.com/compute/docs/reference/rest/v1/instances).\\n\\nGCLOUD WIDE FLAGS\\n    These flags are available to all commands: --help.\\n\\n    Run $ gcloud help for details.\\n\\nGROUPS\\n    GROUP is one of the following:\\n\\n     bulk\\n        Manipulate multiple Compute Engine virtual machines with single command\\n        executions.\\n\\n     network-interfaces\\n        Read and manipulate Compute Engine VM instance network interfaces.\\n\\n     ops-agents\\n        Manage Google Cloud Observability agents for Compute Engine VM\\n        instances.\\n\\n     os-inventory\\n        Read Compute Engine OS Inventory Data and Related Resources.\\n\\nCOMMANDS\\n    COMMAND is one of the following:\\n\\n     add-access-config\\n        Create a Compute Engine virtual machine access configuration.\\n\\n     add-iam-policy-binding\\n        Add IAM policy binding to a Compute Engine instance.\\n\\n     add-labels\\n        Add labels to Google Compute Engine virtual machine instances.\\n\\n     add-metadata\\n        Add or update instance metadata.\\n\\n     add-resource-policies\\n        Add resource policies to Compute Engine VM instances.\\n\\n     add-tags\\n        Add tags to Compute Engine virtual machine instances.\\n\\n     attach-disk\\n        Attach a disk to an instance.\\n\\n     create\\n        Create Compute Engine virtual machine instances.\\n\\n     create-with-container\\n        Creates Compute Engine virtual machine instances running container\\n        images.\\n\\n     delete\\n        Delete Compute Engine virtual machine instances.\\n\\n     delete-access-config\\n        Delete an access configuration from a virtual machine network\\n        interface.\\n\\n     describe\\n        Describe a virtual machine instance.\\n\\n     detach-disk\\n        Detach disks from Compute Engine virtual machine instances.\\n\\n     export\\n        Export a Compute Engine virtual machine instance's configuration to a\\n        file.\\n\\n     get-guest-attributes\\n        Get the Guest Attributes for a compute instance.\\n\\n     get-iam-policy\\n        Get the IAM policy for a Compute Engine instance.\\n\\n     get-screenshot\\n        Capture a screenshot (JPEG image) of the virtual machine instance's\\n        display.\\n\\n     get-serial-port-output\\n        Read output from a virtual machine instance's serial port.\\n\\n     get-shielded-identity\\n        Get the Shielded identity for a Compute Engine instance.\\n\\n     import\\n        Create Compute Engine virtual machine instances from virtual appliance\\n        in OVA/OVF format.\\n\\n     list\\n        List Compute Engine instances.\\n\\n     move\\n        (DEPRECATED) Move an instance and its attached persistent disks between\\n        zones.\\n\\n     perform-maintenance\\n        Perform maintenance of Google Compute Engine instance.\\n\\n     remove-iam-policy-binding\\n        Remove IAM policy binding from a Compute Engine instance.\\n\\n     remove-labels\\n        Remove labels from Google Compute Engine virtual machine instances.\\n\\n     remove-metadata\\n        Remove instance metadata.\\n\\n     remove-resource-policies\\n        Remove resource policies from Compute Engine VM instances.\\n\\n     remove-tags\\n        Remove tags from Compute Engine virtual machine instances.\\n\\n     reset\\n        Reset a virtual machine instance.\\n\\n     resume\\n        Resume a virtual machine instance.\\n\\n     send-diagnostic-interrupt\\n        Send a diagnostic interrupt to a virtual machine instance.\\n\\n     set-disk-auto-delete\\n        Set auto-delete behavior for disks.\\n\\n     set-iam-policy\\n        Set IAM policy for a Compute Engine instance.\\n\\n     set-machine-type\\n        Set machine type for Compute Engine virtual machines.\\n\\n     set-name\\n        Set the name of a Compute Engine virtual machine.\\n\\n     set-scheduling\\n        Set scheduling options for Compute Engine virtual machines.\\n\\n     set-service-account\\n        Set a service account and access scopes for a Compute Engine VM\\n        instance.\\n\\n     simulate-maintenance-event\\n        Simulate host maintenance of VM instances.\\n\\n     start\\n        Start a stopped virtual machine instance.\\n\\n     stop\\n        Stop a virtual machine instance.\\n\\n     suspend\\n        Suspend a virtual machine instance.\\n\\n     tail-serial-port-output\\n        Periodically fetch new output from a virtual machine instance's serial\\n        port and display it as it becomes available.\\n\\n     update\\n        Update a Compute Engine virtual machine.\\n\\n     update-access-config\\n        Update a Compute Engine virtual machine access configuration.\\n\\n     update-container\\n        Updates Compute Engine virtual machine instances running container\\n        images.\\n\\n     update-from-file\\n        Update a Compute Engine virtual machine instance using a configuration\\n        file.\\n\""
      ]
     },
     "execution_count": 10,
     "metadata": {},
     "output_type": "execute_result"
    }
   ],
   "source": [
    "clean_text(out_dict[\"stdout\"])"
   ]
  },
  {
   "cell_type": "code",
   "execution_count": null,
   "metadata": {},
   "outputs": [],
   "source": [
    "\"        \""
   ]
  },
  {
   "cell_type": "code",
   "execution_count": null,
   "metadata": {},
   "outputs": [],
   "source": []
  },
  {
   "cell_type": "code",
   "execution_count": null,
   "metadata": {},
   "outputs": [],
   "source": []
  },
  {
   "cell_type": "code",
   "execution_count": null,
   "metadata": {},
   "outputs": [],
   "source": [
    "out_dict = run_command([\"gcloud\", \"compute\", \"networks\", \"--help\"])\n",
    "print(clean_text(out_dict[\"stdout\"]))"
   ]
  },
  {
   "cell_type": "code",
   "execution_count": null,
   "metadata": {},
   "outputs": [],
   "source": [
    "out_dict = run_command([\"gcloud\", \"compute\", \"networks\", \"subnets\", \"list\", \"--uri\"])\n",
    "print(clean_text(out_dict[\"stdout\"]))"
   ]
  },
  {
   "cell_type": "code",
   "execution_count": null,
   "metadata": {},
   "outputs": [],
   "source": [
    "out_dict = run_command([\"gcloud\", \"compute\", \"networks\", \"subnets\", \"list\", \"--help\"])\n",
    "print(clean_text(out_dict[\"stdout\"]))"
   ]
  },
  {
   "cell_type": "code",
   "execution_count": null,
   "metadata": {},
   "outputs": [],
   "source": [
    "out_dict = run_command([\"gcloud\", \"compute\", \"networks\", \"list\", \"--uri\"])\n",
    "print(clean_text(out_dict[\"stdout\"]))"
   ]
  },
  {
   "cell_type": "code",
   "execution_count": null,
   "metadata": {},
   "outputs": [],
   "source": []
  }
 ],
 "metadata": {
  "kernelspec": {
   "display_name": "pt",
   "language": "python",
   "name": "python3"
  },
  "language_info": {
   "codemirror_mode": {
    "name": "ipython",
    "version": 3
   },
   "file_extension": ".py",
   "mimetype": "text/x-python",
   "name": "python",
   "nbconvert_exporter": "python",
   "pygments_lexer": "ipython3",
   "version": "3.9.18"
  }
 },
 "nbformat": 4,
 "nbformat_minor": 2
}
